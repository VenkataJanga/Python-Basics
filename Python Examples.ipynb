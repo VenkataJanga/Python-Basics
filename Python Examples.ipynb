{
 "cells": [
  {
   "cell_type": "markdown",
   "metadata": {},
   "source": [
    "#  29 Sep,'19"
   ]
  },
  {
   "cell_type": "code",
   "execution_count": 1,
   "metadata": {},
   "outputs": [
    {
     "name": "stdout",
     "output_type": "stream",
     "text": [
      "Hello World\n"
     ]
    }
   ],
   "source": [
    "# Display Hello World using print() \n",
    "print(\"Hello World\")"
   ]
  },
  {
   "cell_type": "code",
   "execution_count": 2,
   "metadata": {},
   "outputs": [
    {
     "name": "stdout",
     "output_type": "stream",
     "text": [
      "HelloSai , Very Good Morning\n"
     ]
    }
   ],
   "source": [
    "# Defining a variable\n",
    "msg=\"Sai\"\n",
    "print(\"Hello\"+msg+\" , Very Good Morning\")"
   ]
  },
  {
   "cell_type": "code",
   "execution_count": 3,
   "metadata": {},
   "outputs": [
    {
     "name": "stdout",
     "output_type": "stream",
     "text": [
      "Hello Venkata Janga\n"
     ]
    }
   ],
   "source": [
    "# Adding two string using Concatination\n",
    "first_name=\"Venkata\"\n",
    "last_name=\"Janga\"\n",
    "print(\"Hello \"+first_name+\" \"+last_name)"
   ]
  },
  {
   "cell_type": "markdown",
   "metadata": {},
   "source": [
    "# List operations"
   ]
  },
  {
   "cell_type": "code",
   "execution_count": 29,
   "metadata": {},
   "outputs": [
    {
     "name": "stdout",
     "output_type": "stream",
     "text": [
      "5\n",
      "Honda Shaine\n",
      "Bajaj pulsar\n"
     ]
    }
   ],
   "source": [
    "#Defining a list- A list stores the elements in particular order\n",
    "two_wheeler_bikes_list = ['Honda Shaine','Hero Honda','Yamaya RX 100','Harley Davidson','Bajaj pulsar']\n",
    "#display the size of the list\n",
    "print(len(two_wheeler_bikes_list))\n",
    "#index based list and its starts with 0\n",
    "#diplay first one from the list\n",
    "print(two_wheeler_bikes_list[0])\n",
    "#dispaly the last one from the list\n",
    "print(two_wheeler_bikes_list[-1])\n",
    "\n"
   ]
  },
  {
   "cell_type": "code",
   "execution_count": 7,
   "metadata": {},
   "outputs": [
    {
     "name": "stdout",
     "output_type": "stream",
     "text": [
      "Honda Shaine\n",
      "Hero Honda\n",
      "Yamaya RX 100\n",
      "Harley Davidson\n",
      "Bajaj pulsar\n"
     ]
    }
   ],
   "source": [
    "# iterate the list using for loop\n",
    "for bike in two_wheeler_bikes:\n",
    "   print(bike)"
   ]
  },
  {
   "cell_type": "code",
   "execution_count": 125,
   "metadata": {},
   "outputs": [
    {
     "name": "stdout",
     "output_type": "stream",
     "text": [
      "['trek', 'redline', 'giant', 'XXXX', 'AAAA']\n",
      "['Honda Shaine', 'Hero Honda', 'Yamaya RX 100', 'Harley Davidson', 'Bajaj pulsar', 'trek', 'redline', 'giant', 'XXXX', 'AAAA', 'trek', 'redline', 'giant', 'XXXX', 'AAAA', 'trek', 'redline', 'giant', 'XXXX', 'AAAA', 'trek', 'redline', 'giant', 'XXXX', 'AAAA', 'trek', 'redline', 'giant', 'XXXX', 'AAAA']\n",
      "['Honda Shaine', 'Hero Honda', 'Yamaya RX 100', 'Harley Davidson', 'Bajaj pulsar', 'trek', 'redline', 'giant', 'XXXX', 'AAAA', 'trek', 'redline', 'giant', 'XXXX', 'AAAA', 'trek', 'redline', 'giant', 'XXXX', 'AAAA', 'trek', 'redline', 'giant', 'XXXX', 'AAAA', 'trek', 'redline', 'giant', 'XXXX', 'AAAA', 'trek', 'redline', 'giant', 'XXXX', 'AAAA']\n",
      "------------------------\n",
      "AAAA\n",
      "['Honda Shaine', 'Hero Honda', 'Yamaya RX 100', 'Harley Davidson', 'Bajaj pulsar', 'trek', 'redline', 'giant', 'XXXX', 'AAAA', 'trek', 'redline', 'giant', 'XXXX', 'AAAA', 'trek', 'redline', 'giant', 'XXXX', 'AAAA', 'trek', 'redline', 'giant', 'XXXX', 'AAAA', 'trek', 'redline', 'giant', 'XXXX', 'AAAA', 'trek', 'redline', 'giant', 'XXXX', 'AAAA']\n",
      "+++++++++++\n",
      "['AAAA', 'XXXX', 'giant', 'redline', 'trek', 'AAAA', 'XXXX', 'giant', 'redline', 'trek', 'AAAA', 'XXXX', 'giant', 'redline', 'trek', 'AAAA', 'XXXX', 'giant', 'redline', 'trek', 'AAAA', 'XXXX', 'giant', 'redline', 'trek', 'AAAA', 'XXXX', 'giant', 'redline', 'trek', 'Bajaj pulsar', 'Harley Davidson', 'Yamaya RX 100', 'Hero Honda', 'Honda Shaine']\n",
      "==========\n",
      "['AAAA', 'AAAA', 'AAAA', 'AAAA', 'AAAA', 'AAAA', 'Bajaj pulsar', 'Harley Davidson', 'Hero Honda', 'Honda Shaine', 'XXXX', 'XXXX', 'XXXX', 'XXXX', 'XXXX', 'XXXX', 'Yamaya RX 100', 'giant', 'giant', 'giant', 'giant', 'giant', 'giant', 'redline', 'redline', 'redline', 'redline', 'redline', 'redline', 'trek', 'trek', 'trek', 'trek', 'trek', 'trek']\n",
      "==========\n"
     ]
    },
    {
     "ename": "AttributeError",
     "evalue": "'list' object has no attribute 'coyp'",
     "output_type": "error",
     "traceback": [
      "\u001b[1;31m---------------------------------------------------------------------------\u001b[0m",
      "\u001b[1;31mAttributeError\u001b[0m                            Traceback (most recent call last)",
      "\u001b[1;32m<ipython-input-125-c8a8d66a3d95>\u001b[0m in \u001b[0;36m<module>\u001b[1;34m\u001b[0m\n\u001b[0;32m     26\u001b[0m \u001b[0mprint\u001b[0m\u001b[1;33m(\u001b[0m\u001b[0mnew_list\u001b[0m\u001b[1;33m)\u001b[0m\u001b[1;33m\u001b[0m\u001b[1;33m\u001b[0m\u001b[0m\n\u001b[0;32m     27\u001b[0m \u001b[0mprint\u001b[0m\u001b[1;33m(\u001b[0m\u001b[1;34m\"==========\"\u001b[0m\u001b[1;33m)\u001b[0m\u001b[1;33m\u001b[0m\u001b[1;33m\u001b[0m\u001b[0m\n\u001b[1;32m---> 28\u001b[1;33m \u001b[0mcopyList\u001b[0m \u001b[1;33m=\u001b[0m \u001b[0mnew_list\u001b[0m\u001b[1;33m.\u001b[0m\u001b[0mcoyp\u001b[0m\u001b[1;33m(\u001b[0m\u001b[1;33m)\u001b[0m\u001b[1;33m\u001b[0m\u001b[1;33m\u001b[0m\u001b[0m\n\u001b[0m\u001b[0;32m     29\u001b[0m \u001b[0mprint\u001b[0m\u001b[1;33m(\u001b[0m\u001b[0mcopyList\u001b[0m\u001b[1;33m)\u001b[0m\u001b[1;33m\u001b[0m\u001b[1;33m\u001b[0m\u001b[0m\n",
      "\u001b[1;31mAttributeError\u001b[0m: 'list' object has no attribute 'coyp'"
     ]
    }
   ],
   "source": [
    "# Defining a list\n",
    "bikes = [] \n",
    "# Adding the elements into list\n",
    "bikes.append('trek') \n",
    "bikes.append('redline')\n",
    "bikes.append('giant')\n",
    "bikes.append('XXXX')\n",
    "bikes.append('AAAA')\n",
    "\n",
    "print(bikes)\n",
    "print(two_wheeler_bikes_list[:])\n",
    "\n",
    "# Concatinating two list by using +\n",
    "new_list = two_wheeler_bikes_list+bikes\n",
    "\n",
    "print(new_list[:])\n",
    "print(\"------------------------\")\n",
    "#print(new_list[:].clear())\n",
    "print(new_list[:].pop())\n",
    "print(new_list[:])\n",
    "new_list.reverse()\n",
    "print(\"+++++++++++\")\n",
    "print(new_list)\n",
    "print(\"==========\")\n",
    "new_list.sort()\n",
    "print(new_list)\n",
    "print(\"==========\")\n",
    "copyList = new_list.coyp()\n",
    "print(copyList)\n"
   ]
  },
  {
   "cell_type": "code",
   "execution_count": 109,
   "metadata": {},
   "outputs": [
    {
     "name": "stdout",
     "output_type": "stream",
     "text": [
      "Honda Shaine\n",
      "--------------\n"
     ]
    }
   ],
   "source": [
    "# Defining a tuble => Tuples are similar to list but it is immutable\n",
    "two_wheeler_bikes_tuple1 = ('Honda Shaine','Hero Honda','Yamaya RX 100','Harley Davidson','Bajaj pulsar')\n",
    "#display the size of the list\n",
    "#print(len(two_wheeler_bikes_tuple1))\n",
    "#index based list and its starts with 0\n",
    "#diplay first one from the list\n",
    "print(two_wheeler_bikes_tuple1[0])\n",
    "print(\"--------------\")\n",
    "\n"
   ]
  },
  {
   "cell_type": "code",
   "execution_count": 24,
   "metadata": {},
   "outputs": [
    {
     "ename": "NameError",
     "evalue": "name 'two_wheeler_bikes_tuple' is not defined",
     "output_type": "error",
     "traceback": [
      "\u001b[1;31m---------------------------------------------------------------------------\u001b[0m",
      "\u001b[1;31mNameError\u001b[0m                                 Traceback (most recent call last)",
      "\u001b[1;32m<ipython-input-24-17901c206a49>\u001b[0m in \u001b[0;36m<module>\u001b[1;34m\u001b[0m\n\u001b[0;32m      1\u001b[0m \u001b[1;31m#two_wheeler_bikes_tuple[0] = 'Error Bike'\u001b[0m\u001b[1;33m\u001b[0m\u001b[1;33m\u001b[0m\u001b[1;33m\u001b[0m\u001b[0m\n\u001b[0;32m      2\u001b[0m \u001b[1;31m#diplay  Error because tuples are immutable=>tuple' object does not support item assignment\u001b[0m\u001b[1;33m\u001b[0m\u001b[1;33m\u001b[0m\u001b[1;33m\u001b[0m\u001b[0m\n\u001b[1;32m----> 3\u001b[1;33m \u001b[0mprint\u001b[0m\u001b[1;33m(\u001b[0m\u001b[0mtwo_wheeler_bikes_tuple\u001b[0m\u001b[1;33m[\u001b[0m\u001b[1;36m1\u001b[0m\u001b[1;33m]\u001b[0m\u001b[1;33m)\u001b[0m\u001b[1;33m\u001b[0m\u001b[1;33m\u001b[0m\u001b[0m\n\u001b[0m",
      "\u001b[1;31mNameError\u001b[0m: name 'two_wheeler_bikes_tuple' is not defined"
     ]
    }
   ],
   "source": [
    "#two_wheeler_bikes_tuple[0] = 'Error Bike'\n",
    "#diplay  Error because tuples are immutable=>tuple' object does not support item assignment\n",
    "print(two_wheeler_bikes_tuple[1])"
   ]
  },
  {
   "cell_type": "code",
   "execution_count": 41,
   "metadata": {},
   "outputs": [
    {
     "name": "stdout",
     "output_type": "stream",
     "text": [
      "['Honda Shaine', 'Hero Honda', 'Yamaya RX 100', 'Harley Davidson', 'Bajaj pulsar', 'trek', 'redline', 'giant', 'XXXX', 'AAAA', 'trek', 'redline', 'giant', 'XXXX', 'AAAA', 'trek', 'redline', 'giant', 'XXXX', 'AAAA', 'trek', 'redline', 'giant', 'XXXX', 'AAAA', 'trek', 'redline', 'giant', 'XXXX', 'AAAA']\n"
     ]
    }
   ],
   "source": [
    "print(two_wheeler_bikes_list[:])"
   ]
  },
  {
   "cell_type": "code",
   "execution_count": 42,
   "metadata": {},
   "outputs": [
    {
     "name": "stdout",
     "output_type": "stream",
     "text": [
      "giant\n"
     ]
    }
   ],
   "source": [
    "print(two_wheeler_bikes_list[-3])"
   ]
  },
  {
   "cell_type": "code",
   "execution_count": 43,
   "metadata": {},
   "outputs": [
    {
     "name": "stdout",
     "output_type": "stream",
     "text": [
      "['Yamaya RX 100', 'Harley Davidson', 'Bajaj pulsar', 'trek', 'redline', 'giant', 'XXXX', 'AAAA', 'trek', 'redline', 'giant', 'XXXX', 'AAAA', 'trek', 'redline', 'giant', 'XXXX', 'AAAA', 'trek', 'redline', 'giant', 'XXXX', 'AAAA', 'trek', 'redline', 'giant', 'XXXX', 'AAAA']\n"
     ]
    }
   ],
   "source": [
    "print(two_wheeler_bikes_list[2:])"
   ]
  },
  {
   "cell_type": "code",
   "execution_count": 44,
   "metadata": {},
   "outputs": [
    {
     "name": "stdout",
     "output_type": "stream",
     "text": [
      "['Yamaya RX 100', 'Harley Davidson', 'Bajaj pulsar']\n"
     ]
    }
   ],
   "source": [
    "print(two_wheeler_bikes_list[2:5])"
   ]
  },
  {
   "cell_type": "code",
   "execution_count": 45,
   "metadata": {},
   "outputs": [
    {
     "name": "stdout",
     "output_type": "stream",
     "text": [
      "['Honda Shaine', 'Hero Honda', 'Yamaya RX 100', 'Harley Davidson', 'Bajaj pulsar']\n"
     ]
    }
   ],
   "source": [
    "print(two_wheeler_bikes_list[:5])"
   ]
  },
  {
   "cell_type": "code",
   "execution_count": 47,
   "metadata": {},
   "outputs": [
    {
     "name": "stdout",
     "output_type": "stream",
     "text": [
      "['Honda Shaine', 'Hero Honda', 'Yamaya RX 100', 'Harley Davidson', 'Bajaj pulsar', 'trek', 'redline', 'giant', 'XXXX', 'AAAA']\n"
     ]
    }
   ],
   "source": [
    "# Remove the Duplicates from a list using list(dict.fromkeys(list_name))\n",
    "print(list(dict.fromkeys(two_wheeler_bikes_list[:])))"
   ]
  },
  {
   "cell_type": "markdown",
   "metadata": {},
   "source": [
    "# String Manipulations"
   ]
  },
  {
   "cell_type": "code",
   "execution_count": 132,
   "metadata": {},
   "outputs": [
    {
     "name": "stdout",
     "output_type": "stream",
     "text": [
      "Before \tHello Python\n",
      "After \tnohtyP olleH\n",
      "nohtyP olleH\n"
     ]
    }
   ],
   "source": [
    "# display the string and print reverse the string\n",
    "str = \"Hello Python\"\n",
    "print(\"Before \\t\"+str)\n",
    "strq = \"\".join(reversed(str)) \n",
    "print(\"After \\t\"+strq)\n",
    "\n",
    "print(str[::-1])\n",
    "\n"
   ]
  },
  {
   "cell_type": "markdown",
   "metadata": {},
   "source": [
    "Reverse a String "
   ]
  },
  {
   "cell_type": "code",
   "execution_count": 127,
   "metadata": {},
   "outputs": [
    {
     "name": "stdout",
     "output_type": "stream",
     "text": [
      "Original String is \tData Science\n",
      "After modifying String is \tecneicS ataD\n"
     ]
    }
   ],
   "source": [
    "new_string=\"Data Science\"\n",
    "temp_string=\"\"\n",
    "\n",
    "for char in new_string:\n",
    "    temp_string=char+temp_string\n",
    "print(\"Original String is \\t\"+new_string)\n",
    "print(\"After modifying String is \\t\"+temp_string)\n",
    "    \n"
   ]
  },
  {
   "cell_type": "code",
   "execution_count": 66,
   "metadata": {},
   "outputs": [
    {
     "name": "stdout",
     "output_type": "stream",
     "text": [
      "Hello python\n",
      "HELLO PYTHON\n",
      "hello python\n",
      "hello python\n",
      "<built-in method count of str object at 0x0000020ECA86ABF0>\n"
     ]
    }
   ],
   "source": [
    "str = \"hello Python\"\n",
    "print(str.capitalize())\n",
    "print(str.upper())\n",
    "print(str.lower())\n",
    "str1 = \"Hello Python\"\n",
    "print(str1.casefold())\n",
    "print(str.count())\n",
    "\n",
    "    "
   ]
  },
  {
   "cell_type": "code",
   "execution_count": null,
   "metadata": {},
   "outputs": [],
   "source": []
  },
  {
   "cell_type": "code",
   "execution_count": 101,
   "metadata": {},
   "outputs": [
    {
     "name": "stdout",
     "output_type": "stream",
     "text": [
      "False\n",
      "False\n",
      "3\n",
      "4\n",
      "  This is Java Programming language and its easy to learn Java Java12 12.  \n",
      "False\n",
      "['This', 'is', 'python', 'Programming', 'language', 'and', 'its', 'easy', 'to', 'learn', 'python', 'python12', '12.']\n",
      "['This', 'is', 'python', 'Programming', 'language', 'and', 'its', 'easy', 'to', 'learn', 'python', 'python12', '12.']\n",
      "['  This is python Programming language and its easy to learn python python12 12.  ']\n",
      "This is python Programming language and its easy to learn python python12 12.\n"
     ]
    }
   ],
   "source": [
    "manipulate_string = \"  This is python Programming language and its easy to learn python python12 12.  \"\n",
    "print(manipulate_string.islower())#return TRUE if all chars are in lower case other wise FALSE\n",
    "print(manipulate_string.isupper())#return TRUE if all chars are in upper case other wise FALSE\n",
    "print( manipulate_string.count(\"python\"))# display the count from the string\n",
    "print( manipulate_string.find(\"i\"))#display the first count index value from the string\n",
    "print( manipulate_string.replace(\"python\",'Java'))# Replace Java insted python\n",
    "print( manipulate_string.isdigit())# Returns TRUE if all the digits from the string\n",
    "print( manipulate_string.rsplit())\n",
    "print( manipulate_string.split())\n",
    "print( manipulate_string.rsplit(\", \", 1))\n",
    "print( manipulate_string.strip())# Removes the spaces from start and end\n",
    "\n",
    "\n"
   ]
  },
  {
   "cell_type": "markdown",
   "metadata": {},
   "source": [
    "# Dictionary-The items will be stored using key and value"
   ]
  },
  {
   "cell_type": "code",
   "execution_count": 156,
   "metadata": {},
   "outputs": [
    {
     "name": "stdout",
     "output_type": "stream",
     "text": [
      "{'Tomato': 20, 'broccoli': 100, 'beetroot': 60, 'cucumber': 40}\n",
      "20\n"
     ]
    }
   ],
   "source": [
    "vegtables_price_per_kg = {\"Tomato\":20,\"broccoli\":100,\"beetroot\":60,\"cucumber\":40}\n",
    "print(vegtables_price_per_kg)\n",
    "print(vegtables_price_per_kg['Tomato'])"
   ]
  },
  {
   "cell_type": "code",
   "execution_count": 144,
   "metadata": {},
   "outputs": [
    {
     "name": "stdout",
     "output_type": "stream",
     "text": [
      "test\n"
     ]
    }
   ],
   "source": [
    "print(\"test\")"
   ]
  },
  {
   "cell_type": "code",
   "execution_count": 157,
   "metadata": {},
   "outputs": [
    {
     "name": "stdout",
     "output_type": "stream",
     "text": [
      "20\n"
     ]
    }
   ],
   "source": [
    "#print(\"The cost of Tomato is \\t\" +vegtables_price_per_kg[\"Tomato\"])\n",
    "print(vegtables_price_per_kg['Tomato'])"
   ]
  },
  {
   "cell_type": "code",
   "execution_count": 159,
   "metadata": {},
   "outputs": [
    {
     "ename": "TypeError",
     "evalue": "can only concatenate str (not \"int\") to str",
     "output_type": "error",
     "traceback": [
      "\u001b[1;31m---------------------------------------------------------------------------\u001b[0m",
      "\u001b[1;31mTypeError\u001b[0m                                 Traceback (most recent call last)",
      "\u001b[1;32m<ipython-input-159-5f65ad25ee72>\u001b[0m in \u001b[0;36m<module>\u001b[1;34m\u001b[0m\n\u001b[0;32m      1\u001b[0m \u001b[1;32mfor\u001b[0m \u001b[0mvegitable\u001b[0m\u001b[1;33m,\u001b[0m \u001b[0mprice\u001b[0m \u001b[1;32min\u001b[0m \u001b[0mvegtables_price_per_kg\u001b[0m\u001b[1;33m.\u001b[0m\u001b[0mitems\u001b[0m\u001b[1;33m(\u001b[0m\u001b[1;33m)\u001b[0m\u001b[1;33m:\u001b[0m\u001b[1;33m\u001b[0m\u001b[1;33m\u001b[0m\u001b[0m\n\u001b[1;32m----> 2\u001b[1;33m     \u001b[0mprint\u001b[0m\u001b[1;33m(\u001b[0m\u001b[1;34m\"The cost of \"\u001b[0m\u001b[1;33m+\u001b[0m\u001b[0mvegitable\u001b[0m\u001b[1;33m+\u001b[0m\u001b[1;34m\" Price is \"\u001b[0m\u001b[1;33m+\u001b[0m\u001b[0mprice\u001b[0m\u001b[1;33m)\u001b[0m\u001b[1;33m\u001b[0m\u001b[1;33m\u001b[0m\u001b[0m\n\u001b[0m",
      "\u001b[1;31mTypeError\u001b[0m: can only concatenate str (not \"int\") to str"
     ]
    }
   ],
   "source": [
    "for vegitable, price in vegtables_price_per_kg.items():\n",
    "    print(\"The cost of \"+vegitable+\" Price is \"+price)"
   ]
  },
  {
   "cell_type": "code",
   "execution_count": 152,
   "metadata": {},
   "outputs": [
    {
     "name": "stdout",
     "output_type": "stream",
     "text": [
      "David De Gea\n",
      "Wayne Rooney\n"
     ]
    }
   ],
   "source": [
    "football = {\"goalkeeper\" : \"David De Gea\", \"striker\" : \"Wayne Rooney\"}\n",
    "print( football[\"goalkeeper\"] )                  # David De Gea\n",
    "print( football[\"striker\"] )                     # Wayne Rooney\n"
   ]
  },
  {
   "cell_type": "code",
   "execution_count": 172,
   "metadata": {},
   "outputs": [
    {
     "name": "stdout",
     "output_type": "stream",
     "text": [
      "The cost of Tomato Price is 20\n",
      "The cost of broccoli Price is 100\n",
      "The cost of beetroot Price is 60\n",
      "The cost of cucumber Price is 40\n"
     ]
    }
   ],
   "source": [
    "vegtables_price_per_kg_verify = {\"Tomato\":\"20\",\"broccoli\":\"100\",\"beetroot\":\"60\",\"cucumber\":\"40\"}\n",
    "\n",
    "for veg_name, price in vegtables_price_per_kg_verify.items():\n",
    "     print(\"The cost of \"+veg_name+\" Price is \"+price)"
   ]
  },
  {
   "cell_type": "markdown",
   "metadata": {},
   "source": [
    "# display all the keys\n",
    "for veg_name in vegtables_price_per_kg_verify.keys():\n",
    "     print(\" Avialable vegitables are \"+veg_name)"
   ]
  },
  {
   "cell_type": "code",
   "execution_count": 171,
   "metadata": {},
   "outputs": [
    {
     "name": "stdout",
     "output_type": "stream",
     "text": [
      " Avialable price values are 20\n",
      " Avialable price values are 100\n",
      " Avialable price values are 60\n",
      " Avialable price values are 40\n"
     ]
    }
   ],
   "source": [
    "#display all the values\n",
    "for price in vegtables_price_per_kg_verify.values():\n",
    "     print(\" Avialable price values are \"+price)"
   ]
  },
  {
   "cell_type": "markdown",
   "metadata": {},
   "source": [
    "# Functions--functions are block of code"
   ]
  },
  {
   "cell_type": "code",
   "execution_count": 178,
   "metadata": {},
   "outputs": [
    {
     "name": "stdout",
     "output_type": "stream",
     "text": [
      "Hello UPX......\n"
     ]
    }
   ],
   "source": [
    "def sayHello():\n",
    "    print(\"Hello UPX......\")\n",
    "    \n",
    "#call the function\n",
    "sayHello()"
   ]
  },
  {
   "cell_type": "code",
   "execution_count": 181,
   "metadata": {},
   "outputs": [
    {
     "name": "stdout",
     "output_type": "stream",
     "text": [
      "Hello Sai , Good Morining\n"
     ]
    }
   ],
   "source": [
    "#Passing a parameter\n",
    "\n",
    "def sayHello(name):\n",
    "    print(\"Hello \"+name+\" , Good Morining\")\n",
    "\n",
    "#call the function\n",
    "sayHello(\"Sai\")\n",
    "    "
   ]
  },
  {
   "cell_type": "code",
   "execution_count": 184,
   "metadata": {},
   "outputs": [
    {
     "name": "stdout",
     "output_type": "stream",
     "text": [
      "Have a bacon pizza!\n",
      "Have a pepperoni pizza!\n"
     ]
    }
   ],
   "source": [
    "def make_pizza(topping='bacon'): \n",
    "    \"\"\"Make a single-topping pizza.\"\"\" \n",
    "    print(\"Have a \" + topping + \" pizza!\")\n",
    "make_pizza()\n",
    "make_pizza('pepperoni')"
   ]
  },
  {
   "cell_type": "code",
   "execution_count": 188,
   "metadata": {},
   "outputs": [
    {
     "name": "stdout",
     "output_type": "stream",
     "text": [
      "15\n"
     ]
    }
   ],
   "source": [
    "#Adding two numbers\n",
    "def adding_two_numbers(a,b):\n",
    "    return(a+b)\n",
    "\n",
    "print(adding_two_numbers(5,10))"
   ]
  },
  {
   "cell_type": "code",
   "execution_count": 192,
   "metadata": {},
   "outputs": [
    {
     "name": "stdout",
     "output_type": "stream",
     "text": [
      "50\n"
     ]
    }
   ],
   "source": [
    "#Multiplication two numbers\n",
    "def multiplication_two_numbers(a,b):\n",
    "    return(a*b)\n",
    "\n",
    "print(multiplication_two_numbers(5,10))"
   ]
  },
  {
   "cell_type": "code",
   "execution_count": 194,
   "metadata": {},
   "outputs": [
    {
     "name": "stdout",
     "output_type": "stream",
     "text": [
      "100\n"
     ]
    }
   ],
   "source": [
    "#Square of a  number\n",
    "def square_two_numbers(a):\n",
    "    return(a**2)\n",
    "\n",
    "print(square_two_numbers(10))"
   ]
  },
  {
   "cell_type": "markdown",
   "metadata": {},
   "source": [
    "# Classes- class contains attributes and fucntions. A child class inherits all the variables and methods from the parent class"
   ]
  },
  {
   "cell_type": "code",
   "execution_count": 220,
   "metadata": {},
   "outputs": [
    {
     "name": "stdout",
     "output_type": "stream",
     "text": [
      "Sai\n",
      "100000\n",
      "Manager\n"
     ]
    }
   ],
   "source": [
    "#Defing a class\n",
    "\n",
    "class Employee:\n",
    "    #initialize Employee object\n",
    "    def __init__(self,emp_name,emp_salary,emp_designation):\n",
    "        self.emp_name=emp_name\n",
    "        self.emp_salary = emp_salary\n",
    "        self.emp_designation=emp_designation\n",
    "        \n",
    "e = Employee(\"Sai\", 100000 ,\"Manager\")\n",
    "\n",
    "print(e.emp_name)\n",
    "print(e.emp_salary)\n",
    "print(e.emp_designation)\n",
    "    "
   ]
  },
  {
   "cell_type": "code",
   "execution_count": 226,
   "metadata": {},
   "outputs": [],
   "source": [
    "class Department(Employee):\n",
    "    #initialize Employee object\n",
    "    def __init__(self,emp_name,emp_salary,emp_designation,emp_dept):\n",
    "        super().__init__(emp_name,emp_salary,emp_designation)\n",
    "        self.emp_dept=emp_dept\n"
   ]
  },
  {
   "cell_type": "code",
   "execution_count": 227,
   "metadata": {},
   "outputs": [
    {
     "name": "stdout",
     "output_type": "stream",
     "text": [
      "Sai\n",
      "100000\n",
      "Manager\n",
      "IT\n"
     ]
    }
   ],
   "source": [
    "emp1 = Department('Sai', 100000,\"Manager\",'IT')  \n",
    "print(emp1.emp_name)\n",
    "print(emp1.emp_salary)\n",
    "print(emp1.emp_designation)\n",
    "print(emp1.emp_dept) "
   ]
  },
  {
   "cell_type": "markdown",
   "metadata": {},
   "source": [
    " Try catch block"
   ]
  },
  {
   "cell_type": "code",
   "execution_count": 233,
   "metadata": {},
   "outputs": [
    {
     "name": "stdout",
     "output_type": "stream",
     "text": [
      "How Many Tickets do you need\n",
      "Something went wrong.....\n"
     ]
    }
   ],
   "source": [
    "input_from_keyboard= \"How Many Tickets do you need\"\n",
    "number_of_tickets = input(input_from_keyboard)\n",
    "try:\n",
    "    number_of_tickets = int(number_of_tickets)\n",
    "except ValueError:\n",
    "    print(\"Something went wrong.....\")\n",
    "else:\n",
    "    print(\"Your tickets are printing............\")\n",
    "    print(number_of_tickets)"
   ]
  },
  {
   "cell_type": "markdown",
   "metadata": {},
   "source": [
    "# statistics\n"
   ]
  },
  {
   "cell_type": "code",
   "execution_count": 236,
   "metadata": {},
   "outputs": [
    {
     "name": "stdout",
     "output_type": "stream",
     "text": [
      "1\n",
      "99\n",
      "557\n"
     ]
    }
   ],
   "source": [
    "ages = [93, 99, 66, 17, 85, 1, 35, 82, 2, 77]\n",
    "youngest = min(ages)\n",
    "yelderage = max(ages)\n",
    "total_ages =sum(ages)\n",
    "print(youngest)\n",
    "print(yelderage)\n",
    "print(total_ages)"
   ]
  },
  {
   "cell_type": "code",
   "execution_count": 239,
   "metadata": {},
   "outputs": [
    {
     "name": "stdout",
     "output_type": "stream",
     "text": [
      "last: fermi\n",
      "\n",
      "\n",
      "first: enrico\n",
      "\n",
      "\n",
      "username: efermi\n",
      "\n",
      "\n",
      "last: curie\n",
      "\n",
      "\n",
      "first: marie\n",
      "\n",
      "\n",
      "username: mcurie\n",
      "\n",
      "\n"
     ]
    }
   ],
   "source": [
    "# Start with an empty list.\n",
    "users = [] # Make a new user, and add them to the list. \n",
    "new_user = { 'last': 'fermi', 'first': 'enrico', 'username': 'efermi', }\n",
    "users.append(new_user) # Make another new user, and add them as well.\n",
    "new_user = { 'last': 'curie', 'first': 'marie', 'username': 'mcurie', } \n",
    "users.append(new_user) # Show all information about each user. \n",
    "for user_dict in users:\n",
    "    for k, v in user_dict.items():\n",
    "        print(k + \": \" + v) \n",
    "        print(\"\\n\")"
   ]
  },
  {
   "cell_type": "code",
   "execution_count": 241,
   "metadata": {},
   "outputs": [
    {
     "name": "stdout",
     "output_type": "stream",
     "text": [
      "Tomato\n",
      "20\n",
      "broccoli\n",
      "100\n",
      "beetroot\n",
      "60\n",
      "cucumber\n",
      "40\n",
      "Banana\n",
      "50\n",
      "Apple\n",
      "200\n",
      "Orange\n",
      "90\n"
     ]
    }
   ],
   "source": [
    "store=[]\n",
    "\n",
    "vegtables_price_per_kg = {\"Tomato\":20,\"broccoli\":100,\"beetroot\":60,\"cucumber\":40}\n",
    "store.append(vegtables_price_per_kg)\n",
    "\n",
    "fruits_price_per_kg = {\"Banana\" : 50, \"Apple\" : 200,\"Orange\":90}\n",
    "store.append(fruits_price_per_kg)\n",
    "\n",
    "\n",
    "for storeItems in store:\n",
    "    for item, price in storeItems.items():\n",
    "        print(item)\n",
    "        print(price)"
   ]
  },
  {
   "cell_type": "code",
   "execution_count": 245,
   "metadata": {},
   "outputs": [
    {
     "name": "stdout",
     "output_type": "stream",
     "text": [
      "Tomato\n",
      "20\n",
      "broccoli\n",
      "100\n",
      "beetroot\n",
      "60\n",
      "cucumber\n",
      "40\n",
      "Banana\n",
      "50\n",
      "Apple\n",
      "200\n",
      "Orange\n",
      "90\n"
     ]
    }
   ],
   "source": [
    "store=[\n",
    "        {\"Tomato\":20,\"broccoli\":100,\"beetroot\":60,\"cucumber\":40},\n",
    "        {\"Banana\" : 50, \"Apple\" : 200,\"Orange\":90}\n",
    "    ]\n",
    "\n",
    "for storeItems in store:\n",
    "    for item,price in storeItems.items():\n",
    "        print(item)\n",
    "        print(price)\n"
   ]
  },
  {
   "cell_type": "code",
   "execution_count": null,
   "metadata": {},
   "outputs": [],
   "source": []
  }
 ],
 "metadata": {
  "kernelspec": {
   "display_name": "Python 3",
   "language": "python",
   "name": "python3"
  },
  "language_info": {
   "codemirror_mode": {
    "name": "ipython",
    "version": 3
   },
   "file_extension": ".py",
   "mimetype": "text/x-python",
   "name": "python",
   "nbconvert_exporter": "python",
   "pygments_lexer": "ipython3",
   "version": "3.7.3"
  }
 },
 "nbformat": 4,
 "nbformat_minor": 2
}

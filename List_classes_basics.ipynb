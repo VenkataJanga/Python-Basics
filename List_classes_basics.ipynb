{
 "cells": [
  {
   "cell_type": "code",
   "execution_count": 1,
   "metadata": {},
   "outputs": [
    {
     "name": "stdout",
     "output_type": "stream",
     "text": [
      "KAI\n",
      "ABE\n",
      "ADA\n",
      "GUS\n",
      "ZOE\n"
     ]
    }
   ],
   "source": [
    "names = ['kai', 'abe', 'ada', 'gus', 'zoe']\n",
    "\n",
    "for name in names:\n",
    "    print(name.upper())"
   ]
  },
  {
   "cell_type": "code",
   "execution_count": 5,
   "metadata": {},
   "outputs": [
    {
     "name": "stdout",
     "output_type": "stream",
     "text": [
      "['KAI', 'ABE', 'ADA', 'GUS', 'ZOE']\n"
     ]
    }
   ],
   "source": [
    "#name =[name.upper() for name in names]\n",
    "# print(name)\n",
    "print([name.upper() for name in names])"
   ]
  },
  {
   "cell_type": "code",
   "execution_count": 6,
   "metadata": {},
   "outputs": [
    {
     "name": "stdout",
     "output_type": "stream",
     "text": [
      "['kai', 'abe', 'ada']\n"
     ]
    }
   ],
   "source": [
    "print(names[:3])"
   ]
  },
  {
   "cell_type": "code",
   "execution_count": 7,
   "metadata": {},
   "outputs": [
    {
     "name": "stdout",
     "output_type": "stream",
     "text": [
      "['abe', 'ada', 'gus']\n"
     ]
    }
   ],
   "source": [
    "print(names[1:4])"
   ]
  },
  {
   "cell_type": "code",
   "execution_count": 9,
   "metadata": {},
   "outputs": [
    {
     "name": "stdout",
     "output_type": "stream",
     "text": [
      "ada\n"
     ]
    }
   ],
   "source": [
    "print(names[-3])"
   ]
  },
  {
   "cell_type": "code",
   "execution_count": 12,
   "metadata": {},
   "outputs": [
    {
     "name": "stdout",
     "output_type": "stream",
     "text": [
      "['ada', 'gus', 'zoe']\n"
     ]
    }
   ],
   "source": [
    "print(names[-3:])"
   ]
  },
  {
   "cell_type": "markdown",
   "metadata": {},
   "source": [
    "# Classes and sub classes\n"
   ]
  },
  {
   "cell_type": "code",
   "execution_count": 38,
   "metadata": {},
   "outputs": [],
   "source": [
    "class Car:\n",
    "    def __init__(self, make, model,year):\n",
    "        self.make = make\n",
    "        self.model = model\n",
    "        seld.year = year\n",
    "      \n",
    "\n",
    "#Inheriting with another class\n",
    "class ElectricCar(Car): \n",
    "    def __init__(self, make, model, year,battery):\n",
    "        super().__init__(self,make, model, year)\n",
    "        # Attribute specific to electric cars. \n",
    "        self.battery = Battery() \n",
    "       \n"
   ]
  },
  {
   "cell_type": "code",
   "execution_count": 40,
   "metadata": {},
   "outputs": [
    {
     "ename": "TypeError",
     "evalue": "__init__() takes 4 positional arguments but 5 were given",
     "output_type": "error",
     "traceback": [
      "\u001b[1;31m---------------------------------------------------------------------------\u001b[0m",
      "\u001b[1;31mTypeError\u001b[0m                                 Traceback (most recent call last)",
      "\u001b[1;32m<ipython-input-40-a724b8f1b816>\u001b[0m in \u001b[0;36m<module>\u001b[1;34m\u001b[0m\n\u001b[1;32m----> 1\u001b[1;33m \u001b[0mmy_ecar\u001b[0m \u001b[1;33m=\u001b[0m \u001b[0mElectricCar\u001b[0m\u001b[1;33m(\u001b[0m\u001b[1;34m'tesla'\u001b[0m\u001b[1;33m,\u001b[0m \u001b[1;34m'model x'\u001b[0m\u001b[1;33m,\u001b[0m \u001b[1;36m2016\u001b[0m\u001b[1;33m,\u001b[0m\u001b[1;36m2000\u001b[0m\u001b[1;33m)\u001b[0m\u001b[1;33m\u001b[0m\u001b[1;33m\u001b[0m\u001b[0m\n\u001b[0m\u001b[0;32m      2\u001b[0m \u001b[0mprint\u001b[0m\u001b[1;33m(\u001b[0m\u001b[0mmy_ecar\u001b[0m\u001b[1;33m.\u001b[0m\u001b[0mcharge\u001b[0m\u001b[1;33m(\u001b[0m\u001b[1;33m)\u001b[0m \u001b[1;33m)\u001b[0m\u001b[1;33m\u001b[0m\u001b[1;33m\u001b[0m\u001b[0m\n",
      "\u001b[1;32m<ipython-input-38-a7ae464a77f4>\u001b[0m in \u001b[0;36m__init__\u001b[1;34m(self, make, model, year, battery)\u001b[0m\n\u001b[0;32m      9\u001b[0m \u001b[1;32mclass\u001b[0m \u001b[0mElectricCar\u001b[0m\u001b[1;33m(\u001b[0m\u001b[0mCar\u001b[0m\u001b[1;33m)\u001b[0m\u001b[1;33m:\u001b[0m\u001b[1;33m\u001b[0m\u001b[1;33m\u001b[0m\u001b[0m\n\u001b[0;32m     10\u001b[0m     \u001b[1;32mdef\u001b[0m \u001b[0m__init__\u001b[0m\u001b[1;33m(\u001b[0m\u001b[0mself\u001b[0m\u001b[1;33m,\u001b[0m \u001b[0mmake\u001b[0m\u001b[1;33m,\u001b[0m \u001b[0mmodel\u001b[0m\u001b[1;33m,\u001b[0m \u001b[0myear\u001b[0m\u001b[1;33m,\u001b[0m\u001b[0mbattery\u001b[0m\u001b[1;33m)\u001b[0m\u001b[1;33m:\u001b[0m\u001b[1;33m\u001b[0m\u001b[1;33m\u001b[0m\u001b[0m\n\u001b[1;32m---> 11\u001b[1;33m         \u001b[0msuper\u001b[0m\u001b[1;33m(\u001b[0m\u001b[1;33m)\u001b[0m\u001b[1;33m.\u001b[0m\u001b[0m__init__\u001b[0m\u001b[1;33m(\u001b[0m\u001b[0mself\u001b[0m\u001b[1;33m,\u001b[0m\u001b[0mmake\u001b[0m\u001b[1;33m,\u001b[0m \u001b[0mmodel\u001b[0m\u001b[1;33m,\u001b[0m \u001b[0myear\u001b[0m\u001b[1;33m)\u001b[0m\u001b[1;33m\u001b[0m\u001b[1;33m\u001b[0m\u001b[0m\n\u001b[0m\u001b[0;32m     12\u001b[0m         \u001b[1;31m# Attribute specific to electric cars.\u001b[0m\u001b[1;33m\u001b[0m\u001b[1;33m\u001b[0m\u001b[1;33m\u001b[0m\u001b[0m\n\u001b[0;32m     13\u001b[0m         \u001b[0mself\u001b[0m\u001b[1;33m.\u001b[0m\u001b[0mbattery\u001b[0m \u001b[1;33m=\u001b[0m \u001b[0mBattery\u001b[0m\u001b[1;33m(\u001b[0m\u001b[1;33m)\u001b[0m\u001b[1;33m\u001b[0m\u001b[1;33m\u001b[0m\u001b[0m\n",
      "\u001b[1;31mTypeError\u001b[0m: __init__() takes 4 positional arguments but 5 were given"
     ]
    }
   ],
   "source": [
    "my_ecar = ElectricCar('tesla', 'model x', 2016)\n",
    "print(my_ecar.charge() )"
   ]
  },
  {
   "cell_type": "markdown",
   "metadata": {},
   "source": [
    "# File handling using read,write,append"
   ]
  },
  {
   "cell_type": "code",
   "execution_count": 41,
   "metadata": {},
   "outputs": [
    {
     "data": {
      "text/plain": [
       "'C:\\\\Users\\\\Venkata Sai\\\\Desktop\\\\PYTHON\\\\30Sep2019'"
      ]
     },
     "execution_count": 41,
     "metadata": {},
     "output_type": "execute_result"
    }
   ],
   "source": [
    "pwd\n"
   ]
  },
  {
   "cell_type": "code",
   "execution_count": 42,
   "metadata": {},
   "outputs": [
    {
     "name": "stdout",
     "output_type": "stream",
     "text": [
      "This is Test Page. Venkata Janga working as sr Tech Lead from Yash Technologies which is located at Pune Magarpatta city.\n"
     ]
    }
   ],
   "source": [
    "filename = \"MyText.txt\"\n",
    "with open(filename) as f_obj: \n",
    "    contents = f_obj.read()\n",
    "    print(contents)"
   ]
  },
  {
   "cell_type": "code",
   "execution_count": 44,
   "metadata": {},
   "outputs": [
    {
     "name": "stdout",
     "output_type": "stream",
     "text": [
      "This is Test Page. Venkata\n",
      "Janga working as sr Tech Lead from Yash Technologies which is located at Pune Magarpatta city.\n",
      "Thank you.\n"
     ]
    }
   ],
   "source": [
    "filename = \"MyText.txt\"\n",
    "with open(filename) as f_obj: \n",
    "    for line in f_obj: \n",
    "        print(line.rstrip())"
   ]
  },
  {
   "cell_type": "code",
   "execution_count": 2,
   "metadata": {},
   "outputs": [],
   "source": [
    "filename = \"programing.txt\"\n",
    "with open(filename,'w') as fileObj:\n",
    "    fileObj.write(\"This is Pything Programing Language. \\n\")\n",
    "    fileObj.write(\" Easy to learn \\n\")\n",
    "    fileObj.write(\" we can implemnt this programing into Data Science. \\n\")\n"
   ]
  },
  {
   "cell_type": "code",
   "execution_count": 3,
   "metadata": {},
   "outputs": [
    {
     "name": "stdout",
     "output_type": "stream",
     "text": [
      "['This is Pything Programing Language. \\n', ' Easy to learn \\n', ' we can implemnt this programing into Data Science. \\n']\n"
     ]
    }
   ],
   "source": [
    "with open(filename,'r') as f_read:\n",
    "    print(f_read.readlines())"
   ]
  },
  {
   "cell_type": "code",
   "execution_count": 5,
   "metadata": {},
   "outputs": [],
   "source": [
    "with open(filename,'a') as f_append:\n",
    "    f_append.write(\"I am appending this line into Programing txt \")\n",
    "    "
   ]
  },
  {
   "cell_type": "code",
   "execution_count": 6,
   "metadata": {},
   "outputs": [
    {
     "name": "stdout",
     "output_type": "stream",
     "text": [
      "This is Pything Programing Language. \n",
      " Easy to learn \n",
      " we can implemnt this programing into Data Science. \n",
      "I am appending this line into Programing txt I am appending this line into Programing txt \n"
     ]
    }
   ],
   "source": [
    "with open(filename,'r') as f_read:\n",
    "    print(f_read.read())"
   ]
  },
  {
   "cell_type": "code",
   "execution_count": 35,
   "metadata": {},
   "outputs": [
    {
     "name": "stdout",
     "output_type": "stream",
     "text": [
      "Can't find file abc.txt.\n"
     ]
    }
   ],
   "source": [
    "f_name=\"abc.txt\"\n",
    "try: \n",
    "    with open(f_name) as f_obj: \n",
    "        lines = f_obj.readlines() \n",
    "except FileNotFoundError:\n",
    "        msg = \"Can't find file {0}.\".format(f_name) \n",
    "        print(msg)"
   ]
  },
  {
   "cell_type": "markdown",
   "metadata": {},
   "source": [
    "Try except else block\n"
   ]
  },
  {
   "cell_type": "code",
   "execution_count": 39,
   "metadata": {},
   "outputs": [
    {
     "name": "stdout",
     "output_type": "stream",
     "text": [
      "Enter any two numbers. verify the division\n",
      "Enter first number : 5\n",
      "Enter second number:0\n",
      "You cant divide by zero\n"
     ]
    }
   ],
   "source": [
    "try:\n",
    "    print(\"Enter any two numbers. verify the division\")\n",
    "    x=int(input(\"Enter first number : \"))\n",
    "    y=int(input(\"Enter second number:\"))\n",
    "    result =  x/y \n",
    "except ZeroDivisionError:\n",
    "    print(\"You cant divide by zero\")\n",
    "else:\n",
    "    print(result)\n",
    "\n"
   ]
  },
  {
   "cell_type": "code",
   "execution_count": 27,
   "metadata": {},
   "outputs": [
    {
     "name": "stdout",
     "output_type": "stream",
     "text": [
      "Written content in the file successfully\n"
     ]
    }
   ],
   "source": [
    "try:\n",
    "   fh = open(\"filename\", \"w\")\n",
    "   fh.write(\"This is my test file for exception handling!!\")\n",
    "except IOError:\n",
    "   print (\"Error: can\\'t find file or read data\")\n",
    "else:\n",
    "   print (\"Written content in the file successfully\")"
   ]
  },
  {
   "cell_type": "code",
   "execution_count": 29,
   "metadata": {},
   "outputs": [
    {
     "name": "stdout",
     "output_type": "stream",
     "text": [
      "Written content in the file successfully\n"
     ]
    }
   ],
   "source": [
    "try:\n",
    "   fh = open(\"filename\", \"r\")\n",
    "   fh.read()\n",
    "except IOError:\n",
    "   print (\"Error: can\\'t find file or read data\")\n",
    "else:\n",
    "   print (\"Written content in the file successfully\")"
   ]
  },
  {
   "cell_type": "code",
   "execution_count": 34,
   "metadata": {},
   "outputs": [
    {
     "name": "stdout",
     "output_type": "stream",
     "text": [
      "Enter any two numbers. verify the division\n",
      "Enter first number : 5\n",
      "Enter second number:5\n",
      "1.0\n"
     ]
    }
   ],
   "source": [
    "\n",
    "\n"
   ]
  },
  {
   "cell_type": "code",
   "execution_count": 44,
   "metadata": {},
   "outputs": [
    {
     "name": "stdout",
     "output_type": "stream",
     "text": [
      "Enter any two numbers will check wether its divisable by zero or not\n",
      "enter 'q' to quit\n",
      "Enter a number5\n",
      "Enter another number6\n",
      "0.8333333333333334\n",
      "Enter a numberq\n"
     ]
    }
   ],
   "source": [
    "print(\"Enter any two numbers will check wether its divisable by zero or not\")\n",
    "print(\"enter 'q' to quit\")\n",
    "\n",
    "while True:\n",
    "    a = input(\"Enter a number\")\n",
    "    if(a =='q'):\n",
    "        break;\n",
    "    b= input(\"Enter another number\")\n",
    "    \n",
    "    if(b =='q'):\n",
    "        break;\n",
    "    \n",
    "    try:\n",
    "        a= int(a)\n",
    "        b = int(b)\n",
    "        result = a/b\n",
    "        \n",
    "    except ZeroDivisionError:\n",
    "        print(\"You cant divide the number\")\n",
    "    else:\n",
    "        print(result)"
   ]
  },
  {
   "cell_type": "code",
   "execution_count": 45,
   "metadata": {},
   "outputs": [],
   "source": [
    "filename1= \"first.txt\"\n",
    "with open(filename1,'w') as f1:\n",
    "    f1.write(\"This is first file \\n\")\n",
    "    f1.write(\" Writing is completed for filename1.\")"
   ]
  },
  {
   "cell_type": "code",
   "execution_count": 46,
   "metadata": {},
   "outputs": [],
   "source": [
    "filename2 = \"second.txt\"\n",
    "with open(filename2,\"w\") as f2:\n",
    "    f2.write(\"This is second file \\n\")\n",
    "    f2.write(\"  Writing is completed for filename2.\")"
   ]
  },
  {
   "cell_type": "code",
   "execution_count": 49,
   "metadata": {},
   "outputs": [],
   "source": [
    "filename3=\"third.txt\"\n",
    "with open(filename3,\"w\") as f3:\n",
    "    f3.write(\"This is Third file \\n\")\n",
    "    f3.write(\"  Writing is completed for filename3.\")"
   ]
  },
  {
   "cell_type": "code",
   "execution_count": 52,
   "metadata": {},
   "outputs": [
    {
     "name": "stdout",
     "output_type": "stream",
     "text": [
      "first.txt\n",
      "abc.txt has 2 lines.\n",
      "second.txt\n",
      "abc.txt has 2 lines.\n",
      "third.txt\n",
      "abc.txt has 2 lines.\n"
     ]
    }
   ],
   "source": [
    "f_names =['first.txt','second.txt','third.txt']\n",
    "\n",
    "for fname in f_names:\n",
    "    try:\n",
    "        with open(fname) as f_obj:\n",
    "            print(fname)\n",
    "            lines = f_obj.readlines()\n",
    "    except FileNotFoundError:\n",
    "            print(\"There is an issue\")\n",
    "    else:\n",
    "        num_lines = len(lines) \n",
    "        msg = \"{0} has {1} lines.\".format( f_name, num_lines) \n",
    "        print(msg)"
   ]
  },
  {
   "cell_type": "markdown",
   "metadata": {},
   "source": [
    "JSON data"
   ]
  },
  {
   "cell_type": "code",
   "execution_count": 61,
   "metadata": {},
   "outputs": [],
   "source": [
    "import json\n",
    "\n",
    "numbers= [2,4,5,1,9,7,8,6]\n",
    "\n",
    "filename = 'numbers.json'\n",
    "with open(filename,'w') as f_obj:\n",
    "    json.dump(numbers,f_obj)"
   ]
  },
  {
   "cell_type": "code",
   "execution_count": 59,
   "metadata": {},
   "outputs": [
    {
     "name": "stdout",
     "output_type": "stream",
     "text": [
      "[2, 4, 5, 1, 9, 7, 8, 6]\n"
     ]
    }
   ],
   "source": [
    "import json\n",
    "\n",
    "filename = 'numbers.json'\n",
    "with open(filename,'r') as f_obj:\n",
    "    numbers = json.load(f_obj)\n",
    "    print(numbers)"
   ]
  },
  {
   "cell_type": "code",
   "execution_count": 70,
   "metadata": {},
   "outputs": [
    {
     "ename": "IndentationError",
     "evalue": "expected an indented block (<ipython-input-70-3bfcb04ea525>, line 7)",
     "output_type": "error",
     "traceback": [
      "\u001b[1;36m  File \u001b[1;32m\"<ipython-input-70-3bfcb04ea525>\"\u001b[1;36m, line \u001b[1;32m7\u001b[0m\n\u001b[1;33m    numbers = json.load(f_read)\u001b[0m\n\u001b[1;37m          ^\u001b[0m\n\u001b[1;31mIndentationError\u001b[0m\u001b[1;31m:\u001b[0m expected an indented block\n"
     ]
    }
   ],
   "source": [
    "import json\n",
    "\n",
    "filename1 = 'numbers.json'\n",
    "\n",
    "try:\n",
    "    with open(filename1) as f_read:\n",
    "    numbers = json.load(f_read)\n",
    "    \n",
    "except FileNotFoundError:\n",
    "    msg=\"Can't find {0}\".format(filename1)\n",
    "else:\n",
    "    print(numbers)"
   ]
  },
  {
   "cell_type": "code",
   "execution_count": null,
   "metadata": {},
   "outputs": [],
   "source": []
  }
 ],
 "metadata": {
  "kernelspec": {
   "display_name": "Python 3",
   "language": "python",
   "name": "python3"
  },
  "language_info": {
   "codemirror_mode": {
    "name": "ipython",
    "version": 3
   },
   "file_extension": ".py",
   "mimetype": "text/x-python",
   "name": "python",
   "nbconvert_exporter": "python",
   "pygments_lexer": "ipython3",
   "version": "3.7.3"
  }
 },
 "nbformat": 4,
 "nbformat_minor": 2
}
